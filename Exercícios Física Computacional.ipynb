{
 "cells": [
  {
   "cell_type": "markdown",
   "metadata": {},
   "source": [
    "# Lista de Exercícios Cap 2 -\n",
    "\n",
    "## Livro Cálculo Numérico: Aspectos Teóricos e Computacionais \n"
   ]
  },
  {
   "cell_type": "markdown",
   "metadata": {},
   "source": [
    "Importações de bibliotecas: \n",
    "\n",
    "* Numpy para funções *seno*, *cosseno*, *tangente* e *logarítmo neperiano*\n",
    "* Matplotlib para visualização gráfica\n",
    "* Pandas para contrução de tabelas."
   ]
  },
  {
   "cell_type": "code",
   "execution_count": 1,
   "metadata": {},
   "outputs": [],
   "source": [
    "import numpy as np\n",
    "import matplotlib.pyplot as plt  \n",
    "import pandas as pd "
   ]
  },
  {
   "cell_type": "markdown",
   "metadata": {},
   "source": [
    "## 1) Localize graficamente as raízes das equações  e compare utilizando o metódo de Newton Raphson assumindo $x_{0}$ próximo a raíz gráfica\n",
    "***\n",
    "\n",
    "#### **1.A)**  A equação que queremos encontrar a raiz é:\n",
    "\n",
    " ## $$4cos(x) - e^{2x} = 0$$\n",
    "\n",
    "Vamos então exibir o gráfico desta função considerando que $f(x) = 4cos(x) - e^{2x}$:"
   ]
  },
  {
   "cell_type": "code",
   "execution_count": 2,
   "metadata": {},
   "outputs": [],
   "source": [
    "# Definições da função \n",
    "#definindo eixo X\n",
    "X = np.arange(-2, 2, 0.1)\n",
    "#definindo f\n",
    "f = lambda x: 4 * np.cos(x) - np.exp(2*x)\n",
    "# calculando o Y = f(x)\n",
    "Y = [f(x) for x in X]"
   ]
  },
  {
   "cell_type": "code",
   "execution_count": 3,
   "metadata": {},
   "outputs": [
    {
     "data": {
      "image/png": "[encoded data removed]",
      "text/plain": [
       "<Figure size 432x288 with 1 Axes>"
      ]
     },
     "metadata": {
      "needs_background": "light"
     },
     "output_type": "display_data"
    }
   ],
   "source": [
    "# Produzindo o gráfico \n",
    "plt.plot(X,Y, 'r.')\n",
    "plt.title('Procurando Raizes de f(x)', fontsize=18)\n",
    "plt.xlabel('X', fontsize=12)\n",
    "plt.ylabel('f(x)', fontsize=12)\n",
    "plt.grid()"
   ]
  },
  {
   "cell_type": "markdown",
   "metadata": {},
   "source": [
    "Através do gráfico é possível verificar que existem duas raízes. Uma próxima de $-1.5$ e outra próxima de $0.6$. Mas para ter uma precisão maior podemos usar o método de Newton-Raphson. O método de Newston-Raphson é definido como: \n",
    "\n",
    "### $$ x_{k+1} = x_{k} - \\frac{f(x_{k})}{f'(x_{k})},$$ \n",
    "\n",
    "onde para um número $k$ de iterações suficientemente grande, a partir de um \"*chute*\" $x_{0}$ o valor de $x_{k+1}$ tende a uma raíz de $f$. Mas para isso precisamos da derivada de $f$, como já foi definido $f(x)$ agora basta definir $f'(x)$, então: \n",
    "\n",
    "Obs: Usei uma [função lambda](https://docs.python.org/3/reference/expressions.html#lambda) para definir $f'(x)$"
   ]
  },
  {
   "cell_type": "code",
   "execution_count": 4,
   "metadata": {},
   "outputs": [],
   "source": [
    "# sintaxe:\n",
    "# dfdx = lambda argumento da função : retorno da função \n",
    "dfdx = lambda x : -4 * np.sin(x) - 2 * np.exp(2*x)"
   ]
  },
  {
   "cell_type": "markdown",
   "metadata": {},
   "source": [
    "Definindo o método: "
   ]
  },
  {
   "cell_type": "code",
   "execution_count": 5,
   "metadata": {},
   "outputs": [],
   "source": [
    "# definindo o método: \n",
    "def newton_raphson(ponto, funcao, derivada):\n",
    "    return ponto - (funcao(ponto) / derivada(ponto))"
   ]
  },
  {
   "cell_type": "markdown",
   "metadata": {},
   "source": [
    "### Primeira raiz\n",
    "Definindo $x_{0}$ sendo um valor próximo de $1.5$ que achamos ser a primeira raiz de $f$, vou supor que seja $-2.0$"
   ]
  },
  {
   "cell_type": "code",
   "execution_count": 6,
   "metadata": {},
   "outputs": [
    {
     "name": "stdout",
     "output_type": "stream",
     "text": [
      "[-2.0, -1.5325994514414258, -1.559779627727271, -1.5597513182391334, -1.5597513182165117, -1.5597513182165117, -1.5597513182165117, -1.5597513182165117, -1.5597513182165117, -1.5597513182165117, -1.5597513182165117]\n"
     ]
    }
   ],
   "source": [
    "x0 = -2.0 # primeiro chute  Xk \n",
    "xk = [x0]  \n",
    "\n",
    "# ralizando a iteração:\n",
    "for i_iteracoes in range(0,10):\n",
    "    x_k = newton_raphson(xk[-1], f, dfdx)\n",
    "    xk.append(x_k)\n",
    "\n",
    "# exibindo o resultado das possíveis raízes\n",
    "print(xk)"
   ]
  },
  {
   "cell_type": "code",
   "execution_count": 7,
   "metadata": {
    "scrolled": true
   },
   "outputs": [
    {
     "data": {
      "text/html": [
       "<div>\n",
       "<style scoped>\n",
       "    .dataframe tbody tr th:only-of-type {\n",
       "        vertical-align: middle;\n",
       "    }\n",
       "\n",
       "    .dataframe tbody tr th {\n",
       "        vertical-align: top;\n",
       "    }\n",
       "\n",
       "    .dataframe thead th {\n",
       "        text-align: right;\n",
       "    }\n",
       "</style>\n",
       "<table border=\"1\" class=\"dataframe\">\n",
       "  <thead>\n",
       "    <tr style=\"text-align: right;\">\n",
       "      <th></th>\n",
       "      <th>Xk</th>\n",
       "      <th>f(x_k)</th>\n",
       "    </tr>\n",
       "  </thead>\n",
       "  <tbody>\n",
       "    <tr>\n",
       "      <th>0</th>\n",
       "      <td>-2.000000</td>\n",
       "      <td>-1.682903e+00</td>\n",
       "    </tr>\n",
       "    <tr>\n",
       "      <th>1</th>\n",
       "      <td>-1.532599</td>\n",
       "      <td>1.061058e-01</td>\n",
       "    </tr>\n",
       "    <tr>\n",
       "      <th>2</th>\n",
       "      <td>-1.559780</td>\n",
       "      <td>-1.107298e-04</td>\n",
       "    </tr>\n",
       "    <tr>\n",
       "      <th>3</th>\n",
       "      <td>-1.559751</td>\n",
       "      <td>-8.848275e-11</td>\n",
       "    </tr>\n",
       "    <tr>\n",
       "      <th>4</th>\n",
       "      <td>-1.559751</td>\n",
       "      <td>-3.538836e-16</td>\n",
       "    </tr>\n",
       "    <tr>\n",
       "      <th>5</th>\n",
       "      <td>-1.559751</td>\n",
       "      <td>-3.538836e-16</td>\n",
       "    </tr>\n",
       "    <tr>\n",
       "      <th>6</th>\n",
       "      <td>-1.559751</td>\n",
       "      <td>-3.538836e-16</td>\n",
       "    </tr>\n",
       "    <tr>\n",
       "      <th>7</th>\n",
       "      <td>-1.559751</td>\n",
       "      <td>-3.538836e-16</td>\n",
       "    </tr>\n",
       "    <tr>\n",
       "      <th>8</th>\n",
       "      <td>-1.559751</td>\n",
       "      <td>-3.538836e-16</td>\n",
       "    </tr>\n",
       "    <tr>\n",
       "      <th>9</th>\n",
       "      <td>-1.559751</td>\n",
       "      <td>-3.538836e-16</td>\n",
       "    </tr>\n",
       "    <tr>\n",
       "      <th>10</th>\n",
       "      <td>-1.559751</td>\n",
       "      <td>-3.538836e-16</td>\n",
       "    </tr>\n",
       "  </tbody>\n",
       "</table>\n",
       "</div>"
      ],
      "text/plain": [
       "          Xk        f(x_k)\n",
       "0  -2.000000 -1.682903e+00\n",
       "1  -1.532599  1.061058e-01\n",
       "2  -1.559780 -1.107298e-04\n",
       "3  -1.559751 -8.848275e-11\n",
       "4  -1.559751 -3.538836e-16\n",
       "5  -1.559751 -3.538836e-16\n",
       "6  -1.559751 -3.538836e-16\n",
       "7  -1.559751 -3.538836e-16\n",
       "8  -1.559751 -3.538836e-16\n",
       "9  -1.559751 -3.538836e-16\n",
       "10 -1.559751 -3.538836e-16"
      ]
     },
     "execution_count": 7,
     "metadata": {},
     "output_type": "execute_result"
    }
   ],
   "source": [
    "# Criando uma lista com f(xk)\n",
    "f_xk = []\n",
    "for i in xk:\n",
    "    f_xk.append(f(i))\n",
    "\n",
    "#Construindo uma tabela com os resultados\n",
    "primeira_raiz = pd.DataFrame({\n",
    "    'Xk':xk,\n",
    "    'f(x_k)':f_xk   \n",
    "})\n",
    "\n",
    "primeira_raiz"
   ]
  },
  {
   "cell_type": "markdown",
   "metadata": {},
   "source": [
    "Nesta tabela temos as possíveis raízes na coluna $x_{k}$ e o valor de $x_{k}$ aplicado em $f$ na coluna $f(x_{k})$ a fim de verificar se realmente resulta em $0$.\n",
    "\n",
    "A apartir da iteração $3$ o valor de $x_{n}$ não muda mais sendo ele igual a $-1.559751$ com o primeiro algarísmo significativo de $f(x_{4})$ na ordem de $10^{-16}$. Então podemos considerar que $x_{4} = -1.559751$ é uma raiz de $f$.\n",
    "\n",
    "### Segunda raiz\n",
    "Definindo $x_{0} = 1$ sendo um valor próximo de $0.6$ que achamos ser a segunda raiz de $f$. O processo é o mesmo, após supor um $x_{0}$ realizar a iteração do método de Newton-Raphson"
   ]
  },
  {
   "cell_type": "code",
   "execution_count": 8,
   "metadata": {},
   "outputs": [
    {
     "data": {
      "text/html": [
       "<div>\n",
       "<style scoped>\n",
       "    .dataframe tbody tr th:only-of-type {\n",
       "        vertical-align: middle;\n",
       "    }\n",
       "\n",
       "    .dataframe tbody tr th {\n",
       "        vertical-align: top;\n",
       "    }\n",
       "\n",
       "    .dataframe thead th {\n",
       "        text-align: right;\n",
       "    }\n",
       "</style>\n",
       "<table border=\"1\" class=\"dataframe\">\n",
       "  <thead>\n",
       "    <tr style=\"text-align: right;\">\n",
       "      <th></th>\n",
       "      <th>Xk</th>\n",
       "      <th>f(x_k)</th>\n",
       "    </tr>\n",
       "  </thead>\n",
       "  <tbody>\n",
       "    <tr>\n",
       "      <th>0</th>\n",
       "      <td>1.000000</td>\n",
       "      <td>-5.227847e+00</td>\n",
       "    </tr>\n",
       "    <tr>\n",
       "      <th>1</th>\n",
       "      <td>0.711869</td>\n",
       "      <td>-1.124045e+00</td>\n",
       "    </tr>\n",
       "    <tr>\n",
       "      <th>2</th>\n",
       "      <td>0.608918</td>\n",
       "      <td>-9.879439e-02</td>\n",
       "    </tr>\n",
       "    <tr>\n",
       "      <th>3</th>\n",
       "      <td>0.597998</td>\n",
       "      <td>-9.962401e-04</td>\n",
       "    </tr>\n",
       "    <tr>\n",
       "      <th>4</th>\n",
       "      <td>0.597886</td>\n",
       "      <td>-1.043784e-07</td>\n",
       "    </tr>\n",
       "    <tr>\n",
       "      <th>5</th>\n",
       "      <td>0.597886</td>\n",
       "      <td>-1.332268e-15</td>\n",
       "    </tr>\n",
       "    <tr>\n",
       "      <th>6</th>\n",
       "      <td>0.597886</td>\n",
       "      <td>-8.881784e-16</td>\n",
       "    </tr>\n",
       "    <tr>\n",
       "      <th>7</th>\n",
       "      <td>0.597886</td>\n",
       "      <td>4.440892e-16</td>\n",
       "    </tr>\n",
       "    <tr>\n",
       "      <th>8</th>\n",
       "      <td>0.597886</td>\n",
       "      <td>4.440892e-16</td>\n",
       "    </tr>\n",
       "    <tr>\n",
       "      <th>9</th>\n",
       "      <td>0.597886</td>\n",
       "      <td>4.440892e-16</td>\n",
       "    </tr>\n",
       "    <tr>\n",
       "      <th>10</th>\n",
       "      <td>0.597886</td>\n",
       "      <td>4.440892e-16</td>\n",
       "    </tr>\n",
       "  </tbody>\n",
       "</table>\n",
       "</div>"
      ],
      "text/plain": [
       "          Xk        f(x_k)\n",
       "0   1.000000 -5.227847e+00\n",
       "1   0.711869 -1.124045e+00\n",
       "2   0.608918 -9.879439e-02\n",
       "3   0.597998 -9.962401e-04\n",
       "4   0.597886 -1.043784e-07\n",
       "5   0.597886 -1.332268e-15\n",
       "6   0.597886 -8.881784e-16\n",
       "7   0.597886  4.440892e-16\n",
       "8   0.597886  4.440892e-16\n",
       "9   0.597886  4.440892e-16\n",
       "10  0.597886  4.440892e-16"
      ]
     },
     "execution_count": 8,
     "metadata": {},
     "output_type": "execute_result"
    }
   ],
   "source": [
    "x0 = 1.0 # segundo chute xk \n",
    "xk = [x0]  \n",
    "\n",
    "# ralizando a iteração:\n",
    "for i_iteracoes in range(0,10):\n",
    "    x_k = newton_raphson(xk[-1], f, dfdx)\n",
    "    xk.append(x_k)\n",
    "\n",
    "# Criando uma lista com f(xk)\n",
    "f_xk = []\n",
    "for i in xk:\n",
    "    f_xk.append(f(i))\n",
    "\n",
    "#Construindo uma tabela com os resultados\n",
    "segunda_raiz = pd.DataFrame({\n",
    "    'Xk':xk,\n",
    "    'f(x_k)':f_xk   \n",
    "})\n",
    "\n",
    "segunda_raiz"
   ]
  },
  {
   "cell_type": "markdown",
   "metadata": {},
   "source": [
    "A partir da iteração $4$ o valor de $x_{x}$ não muda mais podemos assumir que $x_{4} = 0.597886$ é uma raiz.\n",
    "\n",
    "Assim, para a equação $4cos(x) - e^{2x} = 0$, usando o método de Newton-Raphson as raizes são $−1.559751$ e $0.597886$."
   ]
  },
  {
   "cell_type": "markdown",
   "metadata": {},
   "source": [
    "#### **1.B)**  A equação que queremos encontrar as raiz é: \n",
    "\n",
    "## $$\\frac{x}{2} - tg(x) = 0 $$\n",
    "\n",
    "definindo a função as funções\n",
    "\n",
    "$$f(x) = \\frac{x}{2} - tg(x),$$ \n",
    "\n",
    "$$f'(x) = \\frac{1}{2} - sec^{2}(x)$$.\n",
    "\n",
    "Como secante pode ser definida como $sec(x) = \\frac{1}{cos(x)}$, então a derivada de $f$ tem a forma:\n",
    "\n",
    "### $$f'(x) = \\frac{1}{2} - \\frac{1}{cos^{2}(x)}$$\n"
   ]
  },
  {
   "cell_type": "code",
   "execution_count": 9,
   "metadata": {},
   "outputs": [],
   "source": [
    "f = lambda x : (x / 2) - np.tan(x)\n",
    "dfdx = lambda x : (1/2) - np.power(1/(np.cos(x)), 2)"
   ]
  },
  {
   "cell_type": "markdown",
   "metadata": {},
   "source": [
    "Exibindo o gráfico: "
   ]
  },
  {
   "cell_type": "code",
   "execution_count": 10,
   "metadata": {},
   "outputs": [
    {
     "data": {
      "image/png": "[encoded data removed]",
      "text/plain": [
       "<Figure size 432x288 with 1 Axes>"
      ]
     },
     "metadata": {
      "needs_background": "light"
     },
     "output_type": "display_data"
    }
   ],
   "source": [
    "# definindo Eixo X\n",
    "X = np.arange(-1 , 1, 0.1)\n",
    "#definindo f(x)\n",
    "Y = [f(x) for x in X]\n",
    "\n",
    "# Produzindo o gráfico \n",
    "plt.plot(X,Y, 'r.')\n",
    "plt.title('Procurando Raizes de f(x)', fontsize=18)\n",
    "plt.xlabel('X', fontsize=12)\n",
    "plt.ylabel('f(x)', fontsize=12)\n",
    "plt.grid()"
   ]
  },
  {
   "cell_type": "markdown",
   "metadata": {},
   "source": [
    "Aparentemente temos uma raiz pŕoxima de $x = 0$, mas vamos confirmar usando o método de Newton-Raphson. Escolhendo $x_{0} = - 0.1$:"
   ]
  },
  {
   "cell_type": "code",
   "execution_count": 11,
   "metadata": {},
   "outputs": [
    {
     "data": {
      "text/html": [
       "<div>\n",
       "<style scoped>\n",
       "    .dataframe tbody tr th:only-of-type {\n",
       "        vertical-align: middle;\n",
       "    }\n",
       "\n",
       "    .dataframe tbody tr th {\n",
       "        vertical-align: top;\n",
       "    }\n",
       "\n",
       "    .dataframe thead th {\n",
       "        text-align: right;\n",
       "    }\n",
       "</style>\n",
       "<table border=\"1\" class=\"dataframe\">\n",
       "  <thead>\n",
       "    <tr style=\"text-align: right;\">\n",
       "      <th></th>\n",
       "      <th>Xk</th>\n",
       "      <th>f(x_k)</th>\n",
       "    </tr>\n",
       "  </thead>\n",
       "  <tbody>\n",
       "    <tr>\n",
       "      <th>0</th>\n",
       "      <td>-1.000000e-01</td>\n",
       "      <td>5.033467e-02</td>\n",
       "    </tr>\n",
       "    <tr>\n",
       "      <th>1</th>\n",
       "      <td>-1.317538e-03</td>\n",
       "      <td>6.587696e-04</td>\n",
       "    </tr>\n",
       "    <tr>\n",
       "      <th>2</th>\n",
       "      <td>-3.049488e-09</td>\n",
       "      <td>1.524744e-09</td>\n",
       "    </tr>\n",
       "    <tr>\n",
       "      <th>3</th>\n",
       "      <td>0.000000e+00</td>\n",
       "      <td>0.000000e+00</td>\n",
       "    </tr>\n",
       "    <tr>\n",
       "      <th>4</th>\n",
       "      <td>0.000000e+00</td>\n",
       "      <td>0.000000e+00</td>\n",
       "    </tr>\n",
       "    <tr>\n",
       "      <th>5</th>\n",
       "      <td>0.000000e+00</td>\n",
       "      <td>0.000000e+00</td>\n",
       "    </tr>\n",
       "    <tr>\n",
       "      <th>6</th>\n",
       "      <td>0.000000e+00</td>\n",
       "      <td>0.000000e+00</td>\n",
       "    </tr>\n",
       "    <tr>\n",
       "      <th>7</th>\n",
       "      <td>0.000000e+00</td>\n",
       "      <td>0.000000e+00</td>\n",
       "    </tr>\n",
       "    <tr>\n",
       "      <th>8</th>\n",
       "      <td>0.000000e+00</td>\n",
       "      <td>0.000000e+00</td>\n",
       "    </tr>\n",
       "    <tr>\n",
       "      <th>9</th>\n",
       "      <td>0.000000e+00</td>\n",
       "      <td>0.000000e+00</td>\n",
       "    </tr>\n",
       "    <tr>\n",
       "      <th>10</th>\n",
       "      <td>0.000000e+00</td>\n",
       "      <td>0.000000e+00</td>\n",
       "    </tr>\n",
       "  </tbody>\n",
       "</table>\n",
       "</div>"
      ],
      "text/plain": [
       "              Xk        f(x_k)\n",
       "0  -1.000000e-01  5.033467e-02\n",
       "1  -1.317538e-03  6.587696e-04\n",
       "2  -3.049488e-09  1.524744e-09\n",
       "3   0.000000e+00  0.000000e+00\n",
       "4   0.000000e+00  0.000000e+00\n",
       "5   0.000000e+00  0.000000e+00\n",
       "6   0.000000e+00  0.000000e+00\n",
       "7   0.000000e+00  0.000000e+00\n",
       "8   0.000000e+00  0.000000e+00\n",
       "9   0.000000e+00  0.000000e+00\n",
       "10  0.000000e+00  0.000000e+00"
      ]
     },
     "execution_count": 11,
     "metadata": {},
     "output_type": "execute_result"
    }
   ],
   "source": [
    "x0 = -0.1 # chute\n",
    "xk = [x0]  \n",
    "\n",
    "# ralizando a iteração:\n",
    "for i_iteracoes in range(0,10):\n",
    "    x_k = newton_raphson(xk[-1], f, dfdx)\n",
    "    xk.append(x_k)\n",
    "\n",
    "# Criando uma lista com f(xk)\n",
    "f_xk = []\n",
    "for i in xk:\n",
    "    f_xk.append(f(i))\n",
    "\n",
    "#Construindo uma tabela com os resultados\n",
    "primeira_raiz = pd.DataFrame({\n",
    "    'Xk':xk,\n",
    "    'f(x_k)':f_xk   \n",
    "})\n",
    "\n",
    "primeira_raiz"
   ]
  },
  {
   "cell_type": "markdown",
   "metadata": {},
   "source": [
    "Neste caso foi possível verificar que a convergência para $x=0$ de forma bem rápida, na $3$ iteração já encontramos a raiz de $f$."
   ]
  },
  {
   "cell_type": "markdown",
   "metadata": {},
   "source": [
    "#### **1.C)**  A equação que queremos encontrar a raiz é:\n",
    "\n",
    "## $$1 - x ln(x) = 0 $$\n",
    "\n",
    "para criar esta função vamos recorer a função *log* do Numpy. Esta função segundo a documentação do numpy calcula o logarítmo natural ou neperiano, que é o logarítmo na base $e$.\n",
    "\n",
    "https://numpy.org/doc/stable/reference/generated/numpy.log.html\n",
    "\n",
    "Definindo $f(x)$  e $f'(x)$: \n",
    "\n",
    "$$f(x) = 1 - x \\ln{x}$$\n",
    "\n",
    "$$f'(x) = \\ln{x} - 1$$ "
   ]
  },
  {
   "cell_type": "code",
   "execution_count": 12,
   "metadata": {},
   "outputs": [],
   "source": [
    "f = lambda x : 1 - x * np.log(x)\n",
    "dfdx = lambda x : -1 *np.log(x) - 1 "
   ]
  },
  {
   "cell_type": "markdown",
   "metadata": {},
   "source": [
    "Como a função $log$ só é definida pra reais positivos neste contexto, os valores possíveis para o eixo $x$ são estritamente positivos diferente de zero:"
   ]
  },
  {
   "cell_type": "code",
   "execution_count": 13,
   "metadata": {},
   "outputs": [
    {
     "data": {
      "image/png": "[encoded data removed]",
      "text/plain": [
       "<Figure size 432x288 with 1 Axes>"
      ]
     },
     "metadata": {
      "needs_background": "light"
     },
     "output_type": "display_data"
    }
   ],
   "source": [
    "# definindo Eixo X\n",
    "X = np.arange(0.1, 5, 0.1)\n",
    "#definindo f(x)\n",
    "Y = [f(x) for x in X]\n",
    "\n",
    "# Produzindo o gráfico \n",
    "plt.plot(X,Y, 'r.')\n",
    "plt.title('Procurando Raizes de f(x)', fontsize=18)\n",
    "plt.xlabel('X', fontsize=12)\n",
    "plt.ylabel('f(x)', fontsize=12)\n",
    "plt.grid()"
   ]
  },
  {
   "cell_type": "markdown",
   "metadata": {},
   "source": [
    "Pode-se notar que próximo à $x=2$, $f$ se aproxima de zero. Então o primeiro chute que será aplicado ao método de Newton-Raphson é $x=2$:"
   ]
  },
  {
   "cell_type": "code",
   "execution_count": 14,
   "metadata": {
    "scrolled": true
   },
   "outputs": [
    {
     "data": {
      "text/html": [
       "<div>\n",
       "<style scoped>\n",
       "    .dataframe tbody tr th:only-of-type {\n",
       "        vertical-align: middle;\n",
       "    }\n",
       "\n",
       "    .dataframe tbody tr th {\n",
       "        vertical-align: top;\n",
       "    }\n",
       "\n",
       "    .dataframe thead th {\n",
       "        text-align: right;\n",
       "    }\n",
       "</style>\n",
       "<table border=\"1\" class=\"dataframe\">\n",
       "  <thead>\n",
       "    <tr style=\"text-align: right;\">\n",
       "      <th></th>\n",
       "      <th>Xk</th>\n",
       "      <th>f(x_k)</th>\n",
       "    </tr>\n",
       "  </thead>\n",
       "  <tbody>\n",
       "    <tr>\n",
       "      <th>0</th>\n",
       "      <td>2.000000</td>\n",
       "      <td>-3.862944e-01</td>\n",
       "    </tr>\n",
       "    <tr>\n",
       "      <th>1</th>\n",
       "      <td>1.771848</td>\n",
       "      <td>-1.353845e-02</td>\n",
       "    </tr>\n",
       "    <tr>\n",
       "      <th>2</th>\n",
       "      <td>1.763236</td>\n",
       "      <td>-2.096370e-05</td>\n",
       "    </tr>\n",
       "    <tr>\n",
       "      <th>3</th>\n",
       "      <td>1.763223</td>\n",
       "      <td>-5.074252e-11</td>\n",
       "    </tr>\n",
       "    <tr>\n",
       "      <th>4</th>\n",
       "      <td>1.763223</td>\n",
       "      <td>-2.220446e-16</td>\n",
       "    </tr>\n",
       "    <tr>\n",
       "      <th>...</th>\n",
       "      <td>...</td>\n",
       "      <td>...</td>\n",
       "    </tr>\n",
       "    <tr>\n",
       "      <th>996</th>\n",
       "      <td>1.763223</td>\n",
       "      <td>-2.220446e-16</td>\n",
       "    </tr>\n",
       "    <tr>\n",
       "      <th>997</th>\n",
       "      <td>1.763223</td>\n",
       "      <td>3.330669e-16</td>\n",
       "    </tr>\n",
       "    <tr>\n",
       "      <th>998</th>\n",
       "      <td>1.763223</td>\n",
       "      <td>-2.220446e-16</td>\n",
       "    </tr>\n",
       "    <tr>\n",
       "      <th>999</th>\n",
       "      <td>1.763223</td>\n",
       "      <td>3.330669e-16</td>\n",
       "    </tr>\n",
       "    <tr>\n",
       "      <th>1000</th>\n",
       "      <td>1.763223</td>\n",
       "      <td>-2.220446e-16</td>\n",
       "    </tr>\n",
       "  </tbody>\n",
       "</table>\n",
       "<p>1001 rows × 2 columns</p>\n",
       "</div>"
      ],
      "text/plain": [
       "            Xk        f(x_k)\n",
       "0     2.000000 -3.862944e-01\n",
       "1     1.771848 -1.353845e-02\n",
       "2     1.763236 -2.096370e-05\n",
       "3     1.763223 -5.074252e-11\n",
       "4     1.763223 -2.220446e-16\n",
       "...        ...           ...\n",
       "996   1.763223 -2.220446e-16\n",
       "997   1.763223  3.330669e-16\n",
       "998   1.763223 -2.220446e-16\n",
       "999   1.763223  3.330669e-16\n",
       "1000  1.763223 -2.220446e-16\n",
       "\n",
       "[1001 rows x 2 columns]"
      ]
     },
     "execution_count": 14,
     "metadata": {},
     "output_type": "execute_result"
    }
   ],
   "source": [
    "x0 = 2.0 # chute\n",
    "xk = [x0]  \n",
    "\n",
    "# ralizando a iteração:\n",
    "for i_iteracoes in range(0,1000):\n",
    "    x_k = newton_raphson(xk[-1], f, dfdx)\n",
    "    xk.append(x_k)\n",
    "\n",
    "# Criando uma lista com f(xk)\n",
    "f_xk = []\n",
    "for i in xk:\n",
    "    f_xk.append(f(i))\n",
    "\n",
    "#Construindo uma tabela com os resultados\n",
    "primeira_raiz = pd.DataFrame({\n",
    "    'Xk':xk,\n",
    "    'f(x_k)':f_xk   \n",
    "})\n",
    "\n",
    "primeira_raiz"
   ]
  },
  {
   "cell_type": "markdown",
   "metadata": {},
   "source": [
    "A partir de $3$ iterações o $x_k$ para de variar. Então é possível que $x=1.763223$ seja uma raíz de $f$."
   ]
  },
  {
   "cell_type": "markdown",
   "metadata": {},
   "source": [
    "## 2. Aplicar o método de Newton-Raphson em:\n",
    "\n",
    "### $$x^{3} - 2x^{2} - 3x + 10 = 0,$$ \n",
    "\n",
    "para $x_{0} = 1.9$. \n",
    "\n",
    "Justifique a resposta."
   ]
  },
  {
   "cell_type": "code",
   "execution_count": 15,
   "metadata": {},
   "outputs": [],
   "source": [
    "f = lambda x : np.power(x,3) - 2 * np.power(x,2) - 3 * x + 10 \n",
    "dfdx = lambda x : 3 * np.power(x, 2) - 4 * x - 1 "
   ]
  },
  {
   "cell_type": "code",
   "execution_count": 16,
   "metadata": {},
   "outputs": [],
   "source": [
    "X = np.arange(-5., 5.1, 0.1)\n",
    "Y = np.array([f(i) for i in X])"
   ]
  },
  {
   "cell_type": "code",
   "execution_count": 17,
   "metadata": {},
   "outputs": [
    {
     "data": {
      "image/png": "[encoded data removed]",
      "text/plain": [
       "<Figure size 432x288 with 1 Axes>"
      ]
     },
     "metadata": {
      "needs_background": "light"
     },
     "output_type": "display_data"
    }
   ],
   "source": [
    "# Produzindo o gráfico \n",
    "plt.plot(X,Y, 'r.')\n",
    "plt.title('Procurando Raizes de f(x)', fontsize=18)\n",
    "plt.xlabel('X', fontsize=12)\n",
    "plt.ylabel('f(x)', fontsize=12)\n",
    "plt.grid()"
   ]
  },
  {
   "cell_type": "code",
   "execution_count": 18,
   "metadata": {},
   "outputs": [
    {
     "data": {
      "text/html": [
       "<div>\n",
       "<style scoped>\n",
       "    .dataframe tbody tr th:only-of-type {\n",
       "        vertical-align: middle;\n",
       "    }\n",
       "\n",
       "    .dataframe tbody tr th {\n",
       "        vertical-align: top;\n",
       "    }\n",
       "\n",
       "    .dataframe thead th {\n",
       "        text-align: right;\n",
       "    }\n",
       "</style>\n",
       "<table border=\"1\" class=\"dataframe\">\n",
       "  <thead>\n",
       "    <tr style=\"text-align: right;\">\n",
       "      <th></th>\n",
       "      <th>Xk</th>\n",
       "      <th>f(x_k)</th>\n",
       "    </tr>\n",
       "  </thead>\n",
       "  <tbody>\n",
       "    <tr>\n",
       "      <th>0</th>\n",
       "      <td>1.900000</td>\n",
       "      <td>3.939000</td>\n",
       "    </tr>\n",
       "    <tr>\n",
       "      <th>1</th>\n",
       "      <td>0.133632</td>\n",
       "      <td>9.565774</td>\n",
       "    </tr>\n",
       "    <tr>\n",
       "      <th>2</th>\n",
       "      <td>6.592819</td>\n",
       "      <td>189.849661</td>\n",
       "    </tr>\n",
       "    <tr>\n",
       "      <th>3</th>\n",
       "      <td>4.750058</td>\n",
       "      <td>57.799502</td>\n",
       "    </tr>\n",
       "    <tr>\n",
       "      <th>4</th>\n",
       "      <td>3.538046</td>\n",
       "      <td>18.638769</td>\n",
       "    </tr>\n",
       "    <tr>\n",
       "      <th>...</th>\n",
       "      <td>...</td>\n",
       "      <td>...</td>\n",
       "    </tr>\n",
       "    <tr>\n",
       "      <th>97</th>\n",
       "      <td>-2.000000</td>\n",
       "      <td>0.000000</td>\n",
       "    </tr>\n",
       "    <tr>\n",
       "      <th>98</th>\n",
       "      <td>-2.000000</td>\n",
       "      <td>0.000000</td>\n",
       "    </tr>\n",
       "    <tr>\n",
       "      <th>99</th>\n",
       "      <td>-2.000000</td>\n",
       "      <td>0.000000</td>\n",
       "    </tr>\n",
       "    <tr>\n",
       "      <th>100</th>\n",
       "      <td>-2.000000</td>\n",
       "      <td>0.000000</td>\n",
       "    </tr>\n",
       "    <tr>\n",
       "      <th>101</th>\n",
       "      <td>-2.000000</td>\n",
       "      <td>0.000000</td>\n",
       "    </tr>\n",
       "  </tbody>\n",
       "</table>\n",
       "<p>102 rows × 2 columns</p>\n",
       "</div>"
      ],
      "text/plain": [
       "           Xk      f(x_k)\n",
       "0    1.900000    3.939000\n",
       "1    0.133632    9.565774\n",
       "2    6.592819  189.849661\n",
       "3    4.750058   57.799502\n",
       "4    3.538046   18.638769\n",
       "..        ...         ...\n",
       "97  -2.000000    0.000000\n",
       "98  -2.000000    0.000000\n",
       "99  -2.000000    0.000000\n",
       "100 -2.000000    0.000000\n",
       "101 -2.000000    0.000000\n",
       "\n",
       "[102 rows x 2 columns]"
      ]
     },
     "execution_count": 18,
     "metadata": {},
     "output_type": "execute_result"
    }
   ],
   "source": [
    "x0 = 1.9 # chute\n",
    "xk = [x0]  \n",
    "# ralizando a iteração:\n",
    "for i_iteracoes in X:\n",
    "    x_k = newton_raphson(xk[-1], f, dfdx)\n",
    "    xk.append(x_k)\n",
    "\n",
    "# Criando uma lista com f(xk)\n",
    "f_xk = []\n",
    "for i in xk:\n",
    "    f_xk.append(f(i))\n",
    "\n",
    "#Construindo uma tabela com os resultados\n",
    "primeira_raiz = pd.DataFrame({\n",
    "    'Xk':xk,\n",
    "    'f(x_k)':f_xk   \n",
    "})\n",
    "\n",
    "primeira_raiz"
   ]
  }
 ],
 "metadata": {
  "kernelspec": {
   "display_name": "Python 3",
   "language": "python",
   "name": "python3"
  },
  "language_info": {
   "codemirror_mode": {
    "name": "ipython",
    "version": 3
   },
   "file_extension": ".py",
   "mimetype": "text/x-python",
   "name": "python",
   "nbconvert_exporter": "python",
   "pygments_lexer": "ipython3",
   "version": "3.7.6"
  }
 },
 "nbformat": 4,
 "nbformat_minor": 4
}
